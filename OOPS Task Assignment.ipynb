{
 "cells": [
  {
   "cell_type": "markdown",
   "id": "b73ddab3-0381-44e1-a78c-f5c37758865f",
   "metadata": {},
   "source": [
    "Q1, Create a vehicle class with an init method having instance variables as name_of_vehicle, max_speed\n",
    "and average_of_vehicle."
   ]
  },
  {
   "cell_type": "code",
   "execution_count": 1,
   "id": "f4074db5-87ab-4a77-b138-6518b1160a58",
   "metadata": {},
   "outputs": [],
   "source": [
    "class Vehicle:\n",
    "    def __init__(self, name_of_vehicle, max_speed, average_of_vehicle):\n",
    "        self.name_of_vehicle = name_of_vehicle\n",
    "        self.max_speed = max_speed\n",
    "        self.average_of_vehicle = average_of_vehicle\n",
    "    def return_details(self):\n",
    "        return self.name_of_vehicle,self.max_speed,self.average_of_vehicle"
   ]
  },
  {
   "cell_type": "markdown",
   "id": "bdaad57a-c198-4501-80b6-db6f6f0c0cd9",
   "metadata": {},
   "source": [
    "Q2. Create a child class car from the vehicle class created in Que 1, which will inherit the vehicle class.\n",
    "Create a method named seating_capacity which takes capacity as an argument and returns the name of\n",
    "the vehicle and its seating capacity."
   ]
  },
  {
   "cell_type": "code",
   "execution_count": 2,
   "id": "4952711b-38fe-441d-8c21-4f6227c7c71a",
   "metadata": {},
   "outputs": [],
   "source": [
    "class Car(Vehicle):\n",
    "    def seating_capacity(self, capacity):\n",
    "        return self.name_of_vehicle, capacity"
   ]
  },
  {
   "cell_type": "markdown",
   "id": "f95a3688-3424-4ebd-95b8-3c8c895837b0",
   "metadata": {},
   "source": [
    "Q3. What is multiple inheritance? Write a python code to demonstrate multiple inheritance."
   ]
  },
  {
   "cell_type": "code",
   "execution_count": 3,
   "id": "60189c20-60e3-433f-949b-dbe958b73d0e",
   "metadata": {},
   "outputs": [],
   "source": [
    "class class1 :\n",
    "    def test_class1(self) : \n",
    "        print(\"this is my Maths \" )"
   ]
  },
  {
   "cell_type": "code",
   "execution_count": 4,
   "id": "1c9b8475-b5c7-4487-a39e-b660cbfc6604",
   "metadata": {},
   "outputs": [],
   "source": [
    "class class2(class1) : \n",
    "    def test_class2(self) : \n",
    "        print(\"this is my Science\" )"
   ]
  },
  {
   "cell_type": "code",
   "execution_count": 5,
   "id": "8325c756-6da8-46c9-b3c2-a12945f54b44",
   "metadata": {},
   "outputs": [],
   "source": [
    "class class3(class2) : \n",
    "    def test_class3(self) : \n",
    "        print(\"this is my English \")"
   ]
  },
  {
   "cell_type": "code",
   "execution_count": 6,
   "id": "29f45344-1060-493d-b3c6-f7e8506eb775",
   "metadata": {},
   "outputs": [],
   "source": [
    "subject  = class3()"
   ]
  },
  {
   "cell_type": "markdown",
   "id": "ea6fd9d0-1a92-41a1-9282-f15e650102b7",
   "metadata": {},
   "source": [
    "Q4. What are getter and setter in python? Create a class and create a getter and a setter method in this\n",
    "class."
   ]
  },
  {
   "cell_type": "markdown",
   "id": "bee4e9a4-27e7-43c5-ad11-c7b710d2d8f0",
   "metadata": {},
   "source": [
    "Getters are methods that are used to access the value of a private attribute in a class. They are typically used to provide a consistent way of accessing the value of an attribute, and to prevent direct access to the attribute.\n",
    "Setters are methods that are used to set the value of a private attribute in a class. They are typically used to validate the value of the attribute before it is set, and to provide a consistent way of setting the value of an attribute."
   ]
  },
  {
   "cell_type": "code",
   "execution_count": 7,
   "id": "63bafd99-37db-4113-9045-a377f9626565",
   "metadata": {},
   "outputs": [],
   "source": [
    "class Person:\n",
    "    def __init__(self, name, age):\n",
    "        self._name = name\n",
    "        self._age = age\n",
    "\n",
    "    @property\n",
    "    def name(self):\n",
    "        return self._name\n",
    "\n",
    "    @name.setter\n",
    "    def name(self, new_name):\n",
    "        self._name = new_name\n",
    "\n",
    "    @property\n",
    "    def age(self):\n",
    "        return self._age\n",
    "\n",
    "    @age.setter\n",
    "    def age(self, new_age):\n",
    "        if new_age < 0:\n",
    "            raise ValueError(\"Age cannot be negative\")\n",
    "        self._age = new_age"
   ]
  },
  {
   "cell_type": "code",
   "execution_count": 9,
   "id": "cd84b0c7-40a6-4d09-b614-79de7a318fb7",
   "metadata": {},
   "outputs": [
    {
     "name": "stdout",
     "output_type": "stream",
     "text": [
      "Nitn Goma\n",
      "Nitn Goma\n",
      "25\n"
     ]
    }
   ],
   "source": [
    "if __name__ == \"__main__\":\n",
    "    person = Person(\"Nitn Goma\", 25)\n",
    "    print(person.name)\n",
    "    person.name = \"Nitn Goma\"\n",
    "    print(person.name)\n",
    "    person.age = 25\n",
    "    print(person.age)"
   ]
  },
  {
   "cell_type": "code",
   "execution_count": null,
   "id": "8c41da52-e745-4a30-a2f2-a824bb945214",
   "metadata": {},
   "outputs": [],
   "source": []
  },
  {
   "cell_type": "code",
   "execution_count": null,
   "id": "a0bcb8cc-80cc-4e28-bc15-be230123ec09",
   "metadata": {},
   "outputs": [],
   "source": []
  },
  {
   "cell_type": "code",
   "execution_count": null,
   "id": "3a7c9c82-ef58-4eb4-b05f-7691aee3f085",
   "metadata": {},
   "outputs": [],
   "source": []
  },
  {
   "cell_type": "code",
   "execution_count": null,
   "id": "441bb1ed-0dca-49d2-8fdc-f044c78a7c61",
   "metadata": {},
   "outputs": [],
   "source": []
  }
 ],
 "metadata": {
  "kernelspec": {
   "display_name": "Python 3 (ipykernel)",
   "language": "python",
   "name": "python3"
  },
  "language_info": {
   "codemirror_mode": {
    "name": "ipython",
    "version": 3
   },
   "file_extension": ".py",
   "mimetype": "text/x-python",
   "name": "python",
   "nbconvert_exporter": "python",
   "pygments_lexer": "ipython3",
   "version": "3.10.8"
  }
 },
 "nbformat": 4,
 "nbformat_minor": 5
}
